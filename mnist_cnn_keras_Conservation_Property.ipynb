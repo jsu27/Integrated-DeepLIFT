{
 "cells": [
  {
   "cell_type": "code",
   "execution_count": 1,
   "metadata": {
    "collapsed": true
   },
   "outputs": [],
   "source": [
    "## DeepExplain - Keras (TF backend) example\n",
    "### MNIST with CNN"
   ]
  },
  {
   "cell_type": "code",
   "execution_count": 4,
   "metadata": {},
   "outputs": [],
   "source": [
    "from __future__ import absolute_import\n",
    "from __future__ import division\n",
    "from __future__ import print_function\n",
    "\n",
    "import tempfile, sys, os\n",
    "sys.path.insert(0, os.path.abspath('..'))\n",
    "\n",
    "import keras\n",
    "from keras.datasets import mnist\n",
    "from keras.models import Model\n",
    "from keras import backend as K\n",
    "\n",
    "import numpy as np\n",
    "# Import DeepExplain\n",
    "from deepexplain.tensorflow import DeepExplain"
   ]
  },
  {
   "cell_type": "code",
   "execution_count": 5,
   "metadata": {},
   "outputs": [
    {
     "name": "stdout",
     "output_type": "stream",
     "text": [
      "WARNING:tensorflow:From /Users/jsu/opt/anaconda3/lib/python3.7/site-packages/tensorflow_core/python/ops/resource_variable_ops.py:1630: calling BaseResourceVariable.__init__ (from tensorflow.python.ops.resource_variable_ops) with constraint is deprecated and will be removed in a future version.\n",
      "Instructions for updating:\n",
      "If using Keras pass *_constraint arguments to layers.\n",
      "Model: \"sequential_1\"\n",
      "_________________________________________________________________\n",
      "Layer (type)                 Output Shape              Param #   \n",
      "=================================================================\n",
      "conv2d_1 (Conv2D)            (None, 13, 13, 32)        544       \n",
      "_________________________________________________________________\n",
      "activation_1 (Activation)    (None, 13, 13, 32)        0         \n",
      "_________________________________________________________________\n",
      "conv2d_2 (Conv2D)            (None, 5, 5, 64)          32832     \n",
      "_________________________________________________________________\n",
      "activation_2 (Activation)    (None, 5, 5, 64)          0         \n",
      "_________________________________________________________________\n",
      "dropout_1 (Dropout)          (None, 5, 5, 64)          0         \n",
      "_________________________________________________________________\n",
      "flatten_1 (Flatten)          (None, 1600)              0         \n",
      "_________________________________________________________________\n",
      "dense_1 (Dense)              (None, 128)               204928    \n",
      "_________________________________________________________________\n",
      "activation_3 (Activation)    (None, 128)               0         \n",
      "_________________________________________________________________\n",
      "dropout_2 (Dropout)          (None, 128)               0         \n",
      "_________________________________________________________________\n",
      "dense_2 (Dense)              (None, 10)                1290      \n",
      "_________________________________________________________________\n",
      "activation_4 (Activation)    (None, 10)                0         \n",
      "=================================================================\n",
      "Total params: 239,594\n",
      "Trainable params: 239,594\n",
      "Non-trainable params: 0\n",
      "_________________________________________________________________\n"
     ]
    },
    {
     "name": "stderr",
     "output_type": "stream",
     "text": [
      "/Users/jsu/opt/anaconda3/lib/python3.7/site-packages/keras/engine/saving.py:341: UserWarning: No training configuration found in save file: the model was *not* compiled. Compile it manually.\n",
      "  warnings.warn('No training configuration found in save file: '\n"
     ]
    }
   ],
   "source": [
    "saved_model_file = \"keras2_mnist_cnn_allconv.h5\"\n",
    "model = keras.models.load_model(saved_model_file)\n",
    "model.summary()\n",
    "#[print(model.layers[i].output) for i in range(len(model.layers))]"
   ]
  },
  {
   "cell_type": "code",
   "execution_count": 6,
   "metadata": {},
   "outputs": [],
   "source": [
    "(x_train, y_train), (x_test, y_test) = mnist.load_data()\n",
    "x_test = x_test[:,:,:,None]\n",
    "x_train = x_train[:,:,:,None]\n",
    "#y_train = keras.utils.to_categorical(y_train, num_classes)\n",
    "#y_test = keras.utils.to_categorical(y_test, num_classes)"
   ]
  },
  {
   "cell_type": "code",
   "execution_count": 7,
   "metadata": {},
   "outputs": [
    {
     "name": "stdout",
     "output_type": "stream",
     "text": [
      "(?, 28, 28, 1)\n",
      "(?, 10)\n",
      "(10000, 28, 28, 1)\n",
      "(10000, 10)\n",
      "WARNING:tensorflow:From /Users/jsu/Integrated-DeepLIFT/deepexplain/tensorflow/methods.py:808: The name tf.get_default_graph is deprecated. Please use tf.compat.v1.get_default_graph instead.\n",
      "\n"
     ]
    },
    {
     "name": "stderr",
     "output_type": "stream",
     "text": [
      "WARNING:tensorflow:From /Users/jsu/Integrated-DeepLIFT/deepexplain/tensorflow/methods.py:808: The name tf.get_default_graph is deprecated. Please use tf.compat.v1.get_default_graph instead.\n",
      "\n"
     ]
    },
    {
     "name": "stdout",
     "output_type": "stream",
     "text": [
      "WARNING:tensorflow:From /Users/jsu/Integrated-DeepLIFT/deepexplain/tensorflow/methods.py:76: The name tf.placeholder is deprecated. Please use tf.compat.v1.placeholder instead.\n",
      "\n"
     ]
    },
    {
     "name": "stderr",
     "output_type": "stream",
     "text": [
      "WARNING:tensorflow:From /Users/jsu/Integrated-DeepLIFT/deepexplain/tensorflow/methods.py:76: The name tf.placeholder is deprecated. Please use tf.compat.v1.placeholder instead.\n",
      "\n"
     ]
    },
    {
     "name": "stdout",
     "output_type": "stream",
     "text": [
      "WARNING:tensorflow:From /Users/jsu/Integrated-DeepLIFT/deepexplain/tensorflow/methods.py:366: where (from tensorflow.python.ops.array_ops) is deprecated and will be removed in a future version.\n",
      "Instructions for updating:\n",
      "Use tf.where in 2.0, which has the same broadcast rule as np.where\n"
     ]
    },
    {
     "name": "stderr",
     "output_type": "stream",
     "text": [
      "WARNING:tensorflow:From /Users/jsu/Integrated-DeepLIFT/deepexplain/tensorflow/methods.py:366: where (from tensorflow.python.ops.array_ops) is deprecated and will be removed in a future version.\n",
      "Instructions for updating:\n",
      "Use tf.where in 2.0, which has the same broadcast rule as np.where\n"
     ]
    },
    {
     "name": "stdout",
     "output_type": "stream",
     "text": [
      "Done!\n"
     ]
    }
   ],
   "source": [
    "batch_size = 128\n",
    "num_classes = 10\n",
    "epochs = 3\n",
    "\n",
    "with DeepExplain(session=K.get_session()) as de:  # <-- init DeepExplain context\n",
    "    # Need to reconstruct the graph in DeepExplain context, using the same weights.\n",
    "    # With Keras this is very easy:\n",
    "    # 1. Get the input tensor to the original model\n",
    "    input_tensor = model.layers[0].input\n",
    "    print(input_tensor.shape)\n",
    "    # 2. We now target the output of the last dense layer (pre-softmax)\n",
    "    # To do so, create a new model sharing the same layers untill the last dense (index -2)\n",
    "    fModel = Model(inputs=input_tensor, outputs = model.layers[-2].output)\n",
    "    target_tensor = fModel(input_tensor)\n",
    "    print(target_tensor.shape)\n",
    "    xs = x_test\n",
    "    ys = keras.utils.to_categorical(y_test, num_classes)\n",
    "    print(x_test.shape)\n",
    "    print(ys.shape)\n",
    "    #attributions = {}\n",
    "    attributions = de.explain('deeplift', target_tensor * ys, input_tensor, xs)\n",
    "    #attributions = de.explain('saliency', target_tensor * ys, input_tensor, xs)\n",
    "    attributions2 = de.explain('intgrad', target_tensor * ys, input_tensor, xs, steps=10)\n",
    "    attributions3 = de.explain('integdeeplift', target_tensor * ys, input_tensor, xs, steps=10)\n",
    "\n",
    "    #attributions = de.explain('deeplift', target_tensor * ys, input_tensor, xs)\n",
    "    #attributions = de.explain('elrp', target_tensor * ys, input_tensor, xs)\n",
    "    #attributions = de.explain('occlusion', target_tensor * ys, input_tensor, xs)\n",
    "    print(\"Done!\")"
   ]
  },
  {
   "cell_type": "code",
   "execution_count": 14,
   "metadata": {},
   "outputs": [
    {
     "name": "stdout",
     "output_type": "stream",
     "text": [
      "Tensor(\"conv2d_1_input:0\", shape=(?, 28, 28, 1), dtype=float32)\n",
      "(10000, 28, 28, 1)\n",
      "(10000, 10)\n",
      "(10000,)\n"
     ]
    }
   ],
   "source": [
    "pre_softmax_output = K.function([model.layers[0].input],\n",
    "                                  [model.layers[-2].output])\n",
    "\n",
    "#pre_softmax_output([xs])\n",
    "print(model.layers[0].input)\n",
    "print(xs.shape)\n",
    "results = pre_softmax_output([xs])[0]#np.array([pre_softmax_output(xs[i]) for i in range(len(xs))])\n",
    "print(results.shape)\n",
    "#print(np.argmax(ys, axis=1))\n",
    "#print(results[np.argmax(ys, axis=1)])\n",
    "results_indexed = [results[i][np.argmax(ys[i])] for i in range(len(ys))]\n",
    "results_indexed = np.array(results_indexed)\n",
    "print(results_indexed.shape)\n",
    "#print(np.max(results, axis=1))\n",
    "#print(np.argmin(results_indexed - np.max(results, axis=1)))"
   ]
  },
  {
   "cell_type": "code",
   "execution_count": 12,
   "metadata": {},
   "outputs": [
    {
     "ename": "ValueError",
     "evalue": "operands could not be broadcast together with shapes (10000,28,28,1) (10000,10) ",
     "output_type": "error",
     "traceback": [
      "\u001b[0;31m---------------------------------------------------------------------------\u001b[0m",
      "\u001b[0;31mValueError\u001b[0m                                Traceback (most recent call last)",
      "\u001b[0;32m<ipython-input-12-796914e80b89>\u001b[0m in \u001b[0;36m<module>\u001b[0;34m\u001b[0m\n\u001b[0;32m----> 1\u001b[0;31m \u001b[0mprint\u001b[0m\u001b[0;34m(\u001b[0m\u001b[0mattributions\u001b[0m \u001b[0;34m-\u001b[0m \u001b[0mresults\u001b[0m\u001b[0;34m)\u001b[0m\u001b[0;34m\u001b[0m\u001b[0;34m\u001b[0m\u001b[0m\n\u001b[0m",
      "\u001b[0;31mValueError\u001b[0m: operands could not be broadcast together with shapes (10000,28,28,1) (10000,10) "
     ]
    }
   ],
   "source": [
    "print(attributions - results)"
   ]
  },
  {
   "cell_type": "code",
   "execution_count": 16,
   "metadata": {},
   "outputs": [
    {
     "name": "stdout",
     "output_type": "stream",
     "text": [
      "1772.3252\n",
      "9311.902935058475\n",
      "19834.86818549343\n",
      "[-0.24902344 -0.10351562 -0.12402344 -0.14111328 -0.2548828  -0.12451172\n",
      " -0.2548828   0.03686523 -0.0078125   0.03662109 -0.14257812 -0.3383789\n",
      "  0.03662109 -0.14111328 -0.12451172 -0.00878906  0.03710938 -0.25\n",
      "  0.02124023 -0.25390625  0.03759766 -0.33789062 -0.3383789  -0.0078125\n",
      " -0.25610352 -0.14208984 -0.24951172 -0.2553711  -0.1430664  -0.12402344\n",
      "  0.02050781 -0.12353516  0.02099609 -0.2548828  -0.25048828 -0.10351562\n",
      " -0.25       -0.12402344 -0.1027832  -0.12451172 -0.1237793  -0.24951172\n",
      " -0.25439453 -0.10400391  0.02050781 -0.00927734 -0.12402344 -0.10302734\n",
      " -0.2553711  -0.25683594 -0.33789062  0.02099609 -0.0078125  -0.00927734\n",
      " -0.33935547 -0.14208984 -0.2553711  -0.12451172  0.03710938 -0.0090332\n",
      " -0.24902344  0.5019531   0.03686523  0.02148438 -0.2475586  -0.2553711\n",
      " -0.3383789  -0.2548828   0.02001953 -0.14208984 -0.25       -0.14160156\n",
      " -0.10302734  0.03686523 -0.12451172 -0.24902344  0.02246094 -0.10253906\n",
      "  0.03686523 -0.24853516 -0.24926758 -0.3383789  -0.10546875 -0.25048828\n",
      "  0.5024414  -0.25439453 -0.24902344  0.02197266 -0.33789062 -0.12402344\n",
      "  0.02197266 -0.33935547  0.03686523  0.02099609 -0.12451172 -0.25512695\n",
      " -0.12451172 -0.24804688 -0.3388672   0.03662109]\n",
      "-2066.9604050070047\n"
     ]
    }
   ],
   "source": [
    "diff1 = results_indexed - np.sum(attributions, axis=(1, 2, 3))\n",
    "diff2 = results_indexed - np.sum(attributions2, axis=(1, 2, 3))\n",
    "diff3 = results_indexed - np.sum(attributions3, axis=(1, 2, 3))\n",
    "\n",
    "diff_deeplift = np.abs(diff1)\n",
    "diff_intgrad_10 = np.abs(diff2)\n",
    "diff_integdeeplift_10 = np.abs(diff3)\n",
    "\n",
    "print(np.sum(diff_deeplift))\n",
    "print(np.sum(diff_intgrad_10))\n",
    "print(np.sum(diff_integdeeplift_10))\n",
    "\n",
    "print(diff1[:100])\n",
    "print(np.sum(attributions2) - np.sum(attributions))"
   ]
  },
  {
   "cell_type": "code",
   "execution_count": 19,
   "metadata": {},
   "outputs": [
    {
     "data": {
      "image/png": "[encoded data removed]",
      "text/plain": [
       "<Figure size 432x288 with 1 Axes>"
      ]
     },
     "metadata": {},
     "output_type": "display_data"
    },
    {
     "data": {
      "image/png": "[encoded data removed]",
      "text/plain": [
       "<Figure size 432x288 with 1 Axes>"
      ]
     },
     "metadata": {},
     "output_type": "display_data"
    }
   ],
   "source": [
    "import matplotlib.pyplot as plt\n",
    "%matplotlib inline\n",
    "\n",
    "plt.violinplot(diff_deeplift[:100], showmedians=True)\n",
    "plt.violinplot(diff_intgrad_10[:100], showmedians=True)\n",
    "#plt.violinplot(diff_integdeeplift_10[:100], showmedians=True)\n",
    "plt.show()\n",
    "plt.plot(diff_deeplift[:100], label=\"deeplift\", )\n",
    "plt.plot(diff_intgrad_10[:100], label=\"intgrad_10\")\n",
    "plt.plot(diff_integdeeplift_10[:100], label=\"integdeeplift_10\")\n",
    "plt.legend()\n",
    "plt.title(\"Absolute difference between sum_of_attribs & real_output_value \")\n",
    "plt.show()\n"
   ]
  },
  {
   "cell_type": "code",
   "execution_count": null,
   "metadata": {
    "collapsed": true
   },
   "outputs": [],
   "source": []
  }
 ],
 "metadata": {
  "anaconda-cloud": {},
  "kernelspec": {
   "display_name": "Python 3",
   "language": "python",
   "name": "python3"
  },
  "language_info": {
   "codemirror_mode": {
    "name": "ipython",
    "version": 3
   },
   "file_extension": ".py",
   "mimetype": "text/x-python",
   "name": "python",
   "nbconvert_exporter": "python",
   "pygments_lexer": "ipython3",
   "version": "3.7.4"
  }
 },
 "nbformat": 4,
 "nbformat_minor": 1
}
