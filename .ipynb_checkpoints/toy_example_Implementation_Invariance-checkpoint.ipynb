{
 "cells": [
  {
   "cell_type": "code",
   "execution_count": 1,
   "metadata": {},
   "outputs": [
    {
     "name": "stderr",
     "output_type": "stream",
     "text": [
      "Using TensorFlow backend.\n"
     ]
    },
    {
     "name": "stdout",
     "output_type": "stream",
     "text": [
      "WARNING:tensorflow:From /Users/jsu/Integrated-DeepLIFT/deepexplain/tensorflow/methods.py:728: The name tf.get_default_session is deprecated. Please use tf.compat.v1.get_default_session instead.\n",
      "\n"
     ]
    }
   ],
   "source": [
    "import tensorflow as tf\n",
    "import numpy as np\n",
    "from keras.models import Sequential\n",
    "from keras.layers import Dense, Activation\n",
    "from keras.models import Model\n",
    "\n",
    "import tempfile, sys, os\n",
    "sys.path.insert(0, os.path.abspath('..'))\n",
    "from deepexplain.tensorflow import DeepExplain\n",
    "from keras import backend as K"
   ]
  },
  {
   "cell_type": "code",
   "execution_count": 7,
   "metadata": {},
   "outputs": [
    {
     "name": "stdout",
     "output_type": "stream",
     "text": [
      "[array([[1., 0.],\n",
      "       [0., 1.]], dtype=float32), array([0., 0.], dtype=float32)]\n",
      "(?, 1)\n",
      "[[1.]]\n"
     ]
    }
   ],
   "source": [
    "#toy model with based on Integrated Gradients paper (https://arxiv.org/pdf/1703.01365.pdf)\n",
    "with DeepExplain(session=K.get_session()) as de:\n",
    "    model = Sequential()\n",
    "    model.add(Dense(2, activation=Activation('relu'), input_dim=2))\n",
    "    model.add(Dense(1, activation=Activation('relu')))\n",
    "    \n",
    "    w1 = np.array([[1, 0], [0, 1]])\n",
    "    b1 = np.array([0, 0])\n",
    "    model.layers[0].set_weights([w1, b1]) #simple ReLU layer\n",
    "    \n",
    "    w2 = np.array([[1], [-1]])\n",
    "    b2 = np.array([-1])\n",
    "    model.layers[1].set_weights([w2, b2]) #z1 - 1 - z2 \n",
    "    print(model.layers[0].get_weights())\n",
    "    \n",
    "    #alpha = .1\n",
    "    #print(-15.75*alpha+9)\n",
    "    #print(K.get_session().run(model.layers[-1].output, feed_dict={model.layers[0].input:np.array([[-2*alpha, \n",
    "                                         #                                                 3*alpha]])}))    \n",
    "    baseline = np.array([0,0])\n",
    "    xs = np.array([[3, 1]])\n",
    "    input_tensor = model.layers[0].input\n",
    "    target_tensor = model.layers[-1].output\n",
    "    #fModel = Model(inputs=input_tensor, outputs = model.layers[-1].output)\n",
    "    #target_tensor = fModel(input_tensor)\n",
    "    print(target_tensor.shape)\n",
    "    print(model.predict(xs)) #sanity check -\n",
    "    "
   ]
  },
  {
   "cell_type": "code",
   "execution_count": 3,
   "metadata": {},
   "outputs": [
    {
     "name": "stdout",
     "output_type": "stream",
     "text": [
      "WARNING:tensorflow:From /Users/jsu/Integrated-DeepLIFT/deepexplain/tensorflow/methods.py:808: The name tf.get_default_graph is deprecated. Please use tf.compat.v1.get_default_graph instead.\n",
      "\n"
     ]
    },
    {
     "name": "stderr",
     "output_type": "stream",
     "text": [
      "WARNING:tensorflow:From /Users/jsu/Integrated-DeepLIFT/deepexplain/tensorflow/methods.py:808: The name tf.get_default_graph is deprecated. Please use tf.compat.v1.get_default_graph instead.\n",
      "\n"
     ]
    },
    {
     "name": "stdout",
     "output_type": "stream",
     "text": [
      "WARNING:tensorflow:From /Users/jsu/Integrated-DeepLIFT/deepexplain/tensorflow/methods.py:76: The name tf.placeholder is deprecated. Please use tf.compat.v1.placeholder instead.\n",
      "\n"
     ]
    },
    {
     "name": "stderr",
     "output_type": "stream",
     "text": [
      "WARNING:tensorflow:From /Users/jsu/Integrated-DeepLIFT/deepexplain/tensorflow/methods.py:76: The name tf.placeholder is deprecated. Please use tf.compat.v1.placeholder instead.\n",
      "\n"
     ]
    },
    {
     "name": "stdout",
     "output_type": "stream",
     "text": [
      "WARNING:tensorflow:From /Users/jsu/Integrated-DeepLIFT/deepexplain/tensorflow/methods.py:366: where (from tensorflow.python.ops.array_ops) is deprecated and will be removed in a future version.\n",
      "Instructions for updating:\n",
      "Use tf.where in 2.0, which has the same broadcast rule as np.where\n"
     ]
    },
    {
     "name": "stderr",
     "output_type": "stream",
     "text": [
      "WARNING:tensorflow:From /Users/jsu/Integrated-DeepLIFT/deepexplain/tensorflow/methods.py:366: where (from tensorflow.python.ops.array_ops) is deprecated and will be removed in a future version.\n",
      "Instructions for updating:\n",
      "Use tf.where in 2.0, which has the same broadcast rule as np.where\n"
     ]
    },
    {
     "name": "stdout",
     "output_type": "stream",
     "text": [
      "Done!\n"
     ]
    }
   ],
   "source": [
    "ground_truth = np.array([1.5, -0.5]) #self-calculated\n",
    "steps = [1, 5, 10, 20, 50]#, 100, 200, 300, 400, 500]\n",
    "methods = ['intgrad', 'idl']\n",
    "attribs = {}\n",
    "diffs = {}\n",
    "\n",
    "with DeepExplain(session=K.get_session()) as de:\n",
    "    attrib_deeplift = de.explain('deeplift', target_tensor, input_tensor, xs)[0] #1 numpy array\n",
    "\n",
    "    for method in methods:\n",
    "        attribs[method] = []\n",
    "        diffs[method] = []\n",
    "        for step in steps:\n",
    "            attrib = de.explain(method, target_tensor, input_tensor, xs, steps=step)[0] #1 numpy array\n",
    "            attribs[method].append(attrib) \n",
    "            diffs[method].append(np.sum(np.abs(attrib - ground_truth))) #append 1 number\n",
    "        \n",
    "    #attribs['intgrad'] = de.explain('intgrad', target_tensor, input_tensor, xs, steps=steps)\n",
    "    #attribs['integdeeplift'] = de.explain('integdeeplift', target_tensor, input_tensor, xs, steps=steps)\n",
    "    print(\"Done!\")\n",
    "    "
   ]
  },
  {
   "cell_type": "code",
   "execution_count": 4,
   "metadata": {},
   "outputs": [
    {
     "name": "stdout",
     "output_type": "stream",
     "text": [
      "[ 1.5 -0.5]\n",
      "{'intgrad': [array([ 3., -1.]), array([ 1.8, -0.6]), array([ 1.5, -0.5]), array([ 1.5, -0.5]), array([ 1.5, -0.5])], 'idl': [array([ 1.5, -0.5]), array([ 1.5, -0.5]), array([ 1.5, -0.5]), array([ 1.5, -0.5]), array([ 1.5, -0.5])]}\n"
     ]
    },
    {
     "data": {
      "text/plain": [
       "<matplotlib.legend.Legend at 0x14f105d10>"
      ]
     },
     "execution_count": 4,
     "metadata": {},
     "output_type": "execute_result"
    },
    {
     "data": {
      "image/png": "[encoded data removed]",
      "text/plain": [
       "<Figure size 432x288 with 1 Axes>"
      ]
     },
     "metadata": {
      "needs_background": "light"
     },
     "output_type": "display_data"
    }
   ],
   "source": [
    "print(attrib_deeplift)\n",
    "print(attribs)\n",
    "import matplotlib.pyplot as plt\n",
    "%matplotlib inline\n",
    "plt.title(\"Integrated Gradients vs. Integrated DeepLIFT Proximity to Ground Truth (Log scale)\")\n",
    "plt.xlabel(\"Number of Steps\")\n",
    "plt.ylabel(\"Sum of Absolute Error\") #absolute difference between attribution & ground truth\n",
    "for method in methods:\n",
    "    plt.plot(steps, diffs[method], 'o', label=method)\n",
    "plt.legend(loc='upper right')\n"
   ]
  },
  {
   "cell_type": "code",
   "execution_count": 5,
   "metadata": {},
   "outputs": [
    {
     "name": "stdout",
     "output_type": "stream",
     "text": [
      "[array([ 3., -1.]), array([ 1.8, -0.6]), array([ 1.5, -0.5]), array([ 1.5, -0.5]), array([ 1.5, -0.5])]\n",
      "[array([ 1.5, -0.5]), array([ 1.5, -0.5]), array([ 1.5, -0.5]), array([ 1.5, -0.5]), array([ 1.5, -0.5])]\n"
     ]
    }
   ],
   "source": [
    "print(attribs['intgrad'])\n",
    "print(attribs['idl'])"
   ]
  },
  {
   "cell_type": "code",
   "execution_count": 2,
   "metadata": {},
   "outputs": [
    {
     "name": "stdout",
     "output_type": "stream",
     "text": [
      "WARNING:tensorflow:From /Users/jsu/opt/anaconda3/lib/python3.7/site-packages/tensorflow_core/python/ops/resource_variable_ops.py:1630: calling BaseResourceVariable.__init__ (from tensorflow.python.ops.resource_variable_ops) with constraint is deprecated and will be removed in a future version.\n",
      "Instructions for updating:\n",
      "If using Keras pass *_constraint arguments to layers.\n",
      "(?, 2)\n",
      "(?, 1)\n",
      "WARNING:tensorflow:From /Users/jsu/opt/anaconda3/lib/python3.7/site-packages/keras/backend/tensorflow_backend.py:422: The name tf.global_variables is deprecated. Please use tf.compat.v1.global_variables instead.\n",
      "\n",
      "[[0.]]\n",
      "[[1.]]\n"
     ]
    },
    {
     "name": "stderr",
     "output_type": "stream",
     "text": [
      "/Users/jsu/opt/anaconda3/lib/python3.7/site-packages/keras/activations.py:235: UserWarning: Do not pass a layer instance (such as Activation) as the activation argument of another layer. Instead, advanced activation layers should be used just like any other layer in a model.\n",
      "  identifier=identifier.__class__.__name__))\n"
     ]
    }
   ],
   "source": [
    "#toy model with based on Integrated Gradients paper (https://arxiv.org/pdf/1703.01365.pdf)\n",
    "with DeepExplain(session=K.get_session()) as de:\n",
    "    model_2 = Sequential()\n",
    "    model_2.add(Dense(2, activation=Activation('relu'), input_dim=2))\n",
    "    model_2.add(Dense(1, activation=Activation('relu')))\n",
    "    \n",
    "    w1 = np.array([[1, 0], [0, 1]])\n",
    "    b1 = np.array([-1, 0])\n",
    "    model_2.layers[0].set_weights([w1, b1]) #x1-1, x2\n",
    "    \n",
    "    w2 = np.array([[1], [-1]])\n",
    "    b2 = np.array([0])\n",
    "    model_2.layers[1].set_weights([w2, b2]) #z1 - 1 - z2 \n",
    "    #print(model.layers[0].get_weights())\n",
    "    \n",
    "    #alpha = .1\n",
    "    #print(-15.75*alpha+9)\n",
    "    #print(K.get_session().run(model.layers[-1].output, feed_dict={model.layers[0].input:np.array([[-2*alpha, \n",
    "                                         #                                                 3*alpha]])}))    \n",
    "    baseline = np.array([[0,0]])\n",
    "    xs = np.array([[3, 1]])\n",
    "    input_tensor = model_2.layers[0].input\n",
    "    target_tensor = model_2.layers[-1].output\n",
    "    #fModel = Model(inputs=input_tensor, outputs = model.layers[-1].output)\n",
    "    #target_tensor = fModel(input_tensor)\n",
    "    print(input_tensor.shape)\n",
    "    print(target_tensor.shape)\n",
    "    print(model_2.predict(baseline))\n",
    "    print(model_2.predict(xs)) #sanity check -\n",
    "    "
   ]
  },
  {
   "cell_type": "code",
   "execution_count": 3,
   "metadata": {},
   "outputs": [
    {
     "name": "stdout",
     "output_type": "stream",
     "text": [
      "WARNING:tensorflow:From /Users/jsu/Integrated-DeepLIFT/deepexplain/tensorflow/methods.py:806: The name tf.get_default_graph is deprecated. Please use tf.compat.v1.get_default_graph instead.\n",
      "\n"
     ]
    },
    {
     "name": "stderr",
     "output_type": "stream",
     "text": [
      "WARNING:tensorflow:From /Users/jsu/Integrated-DeepLIFT/deepexplain/tensorflow/methods.py:806: The name tf.get_default_graph is deprecated. Please use tf.compat.v1.get_default_graph instead.\n",
      "\n"
     ]
    },
    {
     "name": "stdout",
     "output_type": "stream",
     "text": [
      "WARNING:tensorflow:From /Users/jsu/Integrated-DeepLIFT/deepexplain/tensorflow/methods.py:76: The name tf.placeholder is deprecated. Please use tf.compat.v1.placeholder instead.\n",
      "\n"
     ]
    },
    {
     "name": "stderr",
     "output_type": "stream",
     "text": [
      "WARNING:tensorflow:From /Users/jsu/Integrated-DeepLIFT/deepexplain/tensorflow/methods.py:76: The name tf.placeholder is deprecated. Please use tf.compat.v1.placeholder instead.\n",
      "\n"
     ]
    },
    {
     "name": "stdout",
     "output_type": "stream",
     "text": [
      "WARNING:tensorflow:From /Users/jsu/Integrated-DeepLIFT/deepexplain/tensorflow/methods.py:421: where (from tensorflow.python.ops.array_ops) is deprecated and will be removed in a future version.\n",
      "Instructions for updating:\n",
      "Use tf.where in 2.0, which has the same broadcast rule as np.where\n"
     ]
    },
    {
     "name": "stderr",
     "output_type": "stream",
     "text": [
      "WARNING:tensorflow:From /Users/jsu/Integrated-DeepLIFT/deepexplain/tensorflow/methods.py:421: where (from tensorflow.python.ops.array_ops) is deprecated and will be removed in a future version.\n",
      "Instructions for updating:\n",
      "Use tf.where in 2.0, which has the same broadcast rule as np.where\n"
     ]
    },
    {
     "name": "stdout",
     "output_type": "stream",
     "text": [
      "Done!\n",
      "{'integdeeplift': [array([ 1.01666665, -0.6       ])]}\n"
     ]
    }
   ],
   "source": [
    "ground_truth = np.array([1.5, -0.5]) #self-calculated\n",
    "steps = [1,5]#1, 5, 10, 20, 50, 100, 1000]# 200, 300, 400, 500]\n",
    "methods = ['idl_true']\n",
    "attribs_2 = {}\n",
    "diffs_2 = {}\n",
    "xs = np.array([[3, 1]])\n",
    "\n",
    "with DeepExplain(session=K.get_session()) as de:\n",
    "    #attrib_deeplift = de.explain('deeplift', target_tensor, input_tensor, xs)[0] #1 numpy array\n",
    "\n",
    "    for method in methods:\n",
    "        attribs_2[method] = []\n",
    "        diffs_2[method] = []\n",
    "        for step in steps:\n",
    "            attrib = de.explain(method, target_tensor, input_tensor, xs, steps=step)[0] #1 numpy array\n",
    "            attribs_2[method].append(attrib) \n",
    "            diffs_2[method].append(np.sum(np.abs(attrib - ground_truth))) #append 1 number\n",
    "        \n",
    "    #attribs['intgrad'] = de.explain('intgrad', target_tensor, input_tensor, xs, steps=steps)\n",
    "    #attribs['integdeeplift'] = de.explain('integdeeplift', target_tensor, input_tensor, xs, steps=steps)\n",
    "    print(\"Done!\")\n",
    "\n",
    "print(attribs_2)\n",
    "#print(attrib_deeplift)"
   ]
  },
  {
   "cell_type": "code",
   "execution_count": null,
   "metadata": {},
   "outputs": [],
   "source": []
  },
  {
   "cell_type": "code",
   "execution_count": null,
   "metadata": {},
   "outputs": [],
   "source": []
  }
 ],
 "metadata": {
  "anaconda-cloud": {},
  "kernelspec": {
   "display_name": "Python 3",
   "language": "python",
   "name": "python3"
  },
  "language_info": {
   "codemirror_mode": {
    "name": "ipython",
    "version": 3
   },
   "file_extension": ".py",
   "mimetype": "text/x-python",
   "name": "python",
   "nbconvert_exporter": "python",
   "pygments_lexer": "ipython3",
   "version": "3.7.4"
  }
 },
 "nbformat": 4,
 "nbformat_minor": 1
}
