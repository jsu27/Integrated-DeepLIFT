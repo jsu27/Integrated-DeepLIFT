{
 "cells": [
  {
   "cell_type": "code",
   "execution_count": 1,
   "metadata": {
    "collapsed": true
   },
   "outputs": [],
   "source": [
    "## DeepExplain - Keras (TF backend) example\n",
    "### MNIST with CNN"
   ]
  },
  {
   "cell_type": "code",
   "execution_count": 1,
   "metadata": {
    "collapsed": false
   },
   "outputs": [
    {
     "name": "stderr",
     "output_type": "stream",
     "text": [
      "/users/jocelins/anaconda2/envs/py36/lib/python3.6/site-packages/h5py/__init__.py:36: FutureWarning: Conversion of the second argument of issubdtype from `float` to `np.floating` is deprecated. In future, it will be treated as `np.float64 == np.dtype(float).type`.\n",
      "  from ._conv import register_converters as _register_converters\n",
      "Using TensorFlow backend.\n"
     ]
    }
   ],
   "source": [
    "from __future__ import absolute_import\n",
    "from __future__ import division\n",
    "from __future__ import print_function\n",
    "\n",
    "import tempfile, sys, os\n",
    "sys.path.insert(0, os.path.abspath('..'))\n",
    "\n",
    "import keras\n",
    "from keras.datasets import mnist\n",
    "from keras.models import Model\n",
    "from keras import backend as K\n",
    "\n",
    "import numpy as np\n",
    "# Import DeepExplain\n",
    "from deepexplain.tensorflow import DeepExplain"
   ]
  },
  {
   "cell_type": "code",
   "execution_count": 2,
   "metadata": {
    "collapsed": false
   },
   "outputs": [
    {
     "name": "stdout",
     "output_type": "stream",
     "text": [
      "_________________________________________________________________\n",
      "Layer (type)                 Output Shape              Param #   \n",
      "=================================================================\n",
      "conv2d_1 (Conv2D)            (None, 13, 13, 32)        544       \n",
      "_________________________________________________________________\n",
      "activation_1 (Activation)    (None, 13, 13, 32)        0         \n",
      "_________________________________________________________________\n",
      "conv2d_2 (Conv2D)            (None, 5, 5, 64)          32832     \n",
      "_________________________________________________________________\n",
      "activation_2 (Activation)    (None, 5, 5, 64)          0         \n",
      "_________________________________________________________________\n",
      "dropout_1 (Dropout)          (None, 5, 5, 64)          0         \n",
      "_________________________________________________________________\n",
      "flatten_1 (Flatten)          (None, 1600)              0         \n",
      "_________________________________________________________________\n",
      "dense_1 (Dense)              (None, 128)               204928    \n",
      "_________________________________________________________________\n",
      "activation_3 (Activation)    (None, 128)               0         \n",
      "_________________________________________________________________\n",
      "dropout_2 (Dropout)          (None, 128)               0         \n",
      "_________________________________________________________________\n",
      "dense_2 (Dense)              (None, 10)                1290      \n",
      "_________________________________________________________________\n",
      "activation_4 (Activation)    (None, 10)                0         \n",
      "=================================================================\n",
      "Total params: 239,594\n",
      "Trainable params: 239,594\n",
      "Non-trainable params: 0\n",
      "_________________________________________________________________\n"
     ]
    },
    {
     "name": "stderr",
     "output_type": "stream",
     "text": [
      "/users/jocelins/anaconda2/envs/py36/lib/python3.6/site-packages/keras/engine/saving.py:292: UserWarning: No training configuration found in save file: the model was *not* compiled. Compile it manually.\n",
      "  warnings.warn('No training configuration found in save file: '\n"
     ]
    }
   ],
   "source": [
    "saved_model_file = \"keras2_mnist_cnn_allconv.h5\"\n",
    "model = keras.models.load_model(saved_model_file)\n",
    "model.summary()\n",
    "#[print(model.layers[i].output) for i in range(len(model.layers))]"
   ]
  },
  {
   "cell_type": "code",
   "execution_count": 3,
   "metadata": {
    "collapsed": false
   },
   "outputs": [
    {
     "name": "stdout",
     "output_type": "stream",
     "text": [
      "(10000, 28, 28, 1)\n"
     ]
    }
   ],
   "source": [
    "(x_train, y_train), (x_test, y_test) = mnist.load_data()\n",
    "x_test = x_test[:,:,:,None]\n",
    "x_train = x_train[:,:,:,None]\n",
    "#y_train = keras.utils.to_categorical(y_train, num_classes)\n",
    "#y_test = keras.utils.to_categorical(y_test, num_classes)\n",
    "xs = x_test\n",
    "print(xs.shape)"
   ]
  },
  {
   "cell_type": "code",
   "execution_count": 6,
   "metadata": {
    "collapsed": false
   },
   "outputs": [
    {
     "name": "stdout",
     "output_type": "stream",
     "text": [
      "(?, 28, 28, 1)\n",
      "(?, 10)\n",
      "(10000, 28, 28, 1)\n",
      "DeepExplain: running \"deeplift\" explanation method (5)\n",
      "Model with multiple inputs:  False\n",
      "0.7591345310211182\n",
      "DeepExplain: running \"integdeeplift_old\" explanation method (8)\n",
      "Model with multiple inputs:  False\n",
      "36.210633277893066\n",
      "DeepExplain: running \"intgrad_old\" explanation method (8)\n",
      "Model with multiple inputs:  False\n",
      "8.780924081802368\n",
      "Done!\n"
     ]
    }
   ],
   "source": [
    "import tensorflow as tf\n",
    "import time as time\n",
    "num_classes = 10\n",
    "attributions = {}\n",
    "steps = 20\n",
    "with DeepExplain(session=K.get_session()) as de:  # <-- init DeepExplain context\n",
    "    # Need to reconstruct the graph in DeepExplain context, using the same weights.\n",
    "    # With Keras this is very easy:\n",
    "    # 1. Get the input tensor to the original model\n",
    "    input_tensor = model.layers[0].input\n",
    "    print(input_tensor.shape)\n",
    "    # 2. We now target the output of the last dense layer (pre-softmax)\n",
    "    # To do so, create a new model sharing the same layers untill the last dense (index -2)\n",
    "    fModel = Model(inputs=input_tensor, outputs = model.layers[-2].output)\n",
    "    target_tensor = fModel(input_tensor)\n",
    "    print(target_tensor.shape)\n",
    "    xs = x_test\n",
    "    print(xs.shape)\n",
    "    ys = keras.utils.to_categorical(y_test, num_classes)\n",
    "    #CHECK WITH GROUND TRUTH LABELS\n",
    "    \n",
    "    times = {}\n",
    "    t = time.time()\n",
    "    \n",
    "    attributions['deeplift'] = de.explain('deeplift', target_tensor*ys, input_tensor, xs) #attributions for ground truth    \n",
    "    t = time.time() - t\n",
    "    times['deeplift'] = t\n",
    "    print(t)\n",
    "    t = time.time()\n",
    "    attributions['integdeeplift_old'] = de.explain('integdeeplift_old', target_tensor*ys, input_tensor, xs, steps=steps) #attributions for ground truth    \n",
    "    t = time.time() - t\n",
    "    times['integdeeplift_old'] = t\n",
    "    print(t)\n",
    "    t = time.time()\n",
    "    attributions['intgrad_old'] = de.explain('intgrad_old', target_tensor*ys, input_tensor, xs, steps=steps) #attributions for ground truth    \n",
    "    t = time.time() - t\n",
    "    times['intgrads_old'] = t\n",
    "    print(t)\n",
    "    \n",
    "    print(\"Done!\")"
   ]
  },
  {
   "cell_type": "code",
   "execution_count": 7,
   "metadata": {
    "collapsed": false
   },
   "outputs": [
    {
     "name": "stdout",
     "output_type": "stream",
     "text": [
      "[6114.0835 6610.0283 4447.288  ... 7320.908  6010.4844 5558.258 ]\n"
     ]
    }
   ],
   "source": [
    "pre_softmax_output = K.function([model.layers[0].input],\n",
    "                                  [model.layers[-2].output])\n",
    "#results, with xs as input\n",
    "results = pre_softmax_output([xs])[0]\n",
    "results_indexed = [results[i][y_test[i]] for i in range(len(y_test))] #results of ground truth labels\n",
    "results_indexed = np.array(results_indexed)\n",
    "\n",
    "#results, with reference of all 0s as input\n",
    "results_ref = pre_softmax_output([np.zeros_like(xs)])[0] #results when input = baseline (all 0's)\n",
    "results_ref = [results_ref[i][np.argmax(ys[i])] for i in range(len(ys))] #ground truth\n",
    "results_ref = np.array(results_ref)\n",
    "results_diff = results_indexed - results_ref\n",
    "print(results_diff) #must compare to sum of attribs\n",
    "#'''"
   ]
  },
  {
   "cell_type": "code",
   "execution_count": 8,
   "metadata": {
    "collapsed": false
   },
   "outputs": [
    {
     "name": "stdout",
     "output_type": "stream",
     "text": [
      "[0.00048828 0.         0.00048828 ... 0.00146484 0.00048828 0.00097656]\n",
      "0.00047757034\n",
      "[0.00014392 0.0006865  0.00031452 ... 0.00107392 0.00064729 0.00138221]\n",
      "0.0004696448101537015\n",
      "[2.41654363 1.6217908  0.08816957 ... 1.47084331 2.25159912 0.76557289]\n",
      "0.9434397226018273\n"
     ]
    }
   ],
   "source": [
    "#mean absolute error between results_diff (F(x) - F(x_reference)) and sum of attributions\n",
    "diffs = {}\n",
    "for method in attributions.keys():\n",
    "    diffs[method] = np.abs( results_diff - np.sum(attributions[method], axis=(1, 2, 3)) )\n",
    "    print(diffs[method])\n",
    "    print(np.mean(diffs[method]))"
   ]
  },
  {
   "cell_type": "code",
   "execution_count": 11,
   "metadata": {
    "collapsed": false
   },
   "outputs": [
    {
     "data": {
      "image/png": "[encoded data removed]",
      "text/plain": [
       "<Figure size 432x288 with 1 Axes>"
      ]
     },
     "metadata": {},
     "output_type": "display_data"
    }
   ],
   "source": [
    "import matplotlib.pyplot as plt\n",
    "%matplotlib inline\n",
    "\n",
    "for method in diffs.keys():\n",
    "    #if method != 'intgrad_old':\n",
    "    plt.violinplot(diffs[method], showmedians=True)\n",
    "\n",
    "plt.title(\"Absolute difference between sum_of_attribs & real_output_value \")\n",
    "plt.show()"
   ]
  }
 ],
 "metadata": {
  "anaconda-cloud": {},
  "kernelspec": {
   "display_name": "Python [conda env:py36]",
   "language": "python",
   "name": "conda-env-py36-py"
  },
  "language_info": {
   "codemirror_mode": {
    "name": "ipython",
    "version": 3
   },
   "file_extension": ".py",
   "mimetype": "text/x-python",
   "name": "python",
   "nbconvert_exporter": "python",
   "pygments_lexer": "ipython3",
   "version": "3.6.5"
  }
 },
 "nbformat": 4,
 "nbformat_minor": 0
}
