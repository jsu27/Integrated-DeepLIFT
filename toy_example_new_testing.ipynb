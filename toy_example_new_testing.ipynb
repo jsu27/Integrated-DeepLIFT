{
 "cells": [
  {
   "cell_type": "code",
   "execution_count": 1,
   "metadata": {},
   "outputs": [
    {
     "name": "stderr",
     "output_type": "stream",
     "text": [
      "Using TensorFlow backend.\n"
     ]
    },
    {
     "name": "stdout",
     "output_type": "stream",
     "text": [
      "WARNING:tensorflow:From /Users/jsu/Integrated-DeepLIFT/deepexplain/tensorflow/methods.py:772: The name tf.get_default_session is deprecated. Please use tf.compat.v1.get_default_session instead.\n",
      "\n"
     ]
    }
   ],
   "source": [
    "import tensorflow as tf\n",
    "import numpy as np\n",
    "from keras.models import Sequential\n",
    "from keras.layers import Dense, Activation\n",
    "from keras.models import Model\n",
    "\n",
    "import tempfile, sys, os\n",
    "sys.path.insert(0, os.path.abspath('..'))\n",
    "from deepexplain.tensorflow import DeepExplain\n",
    "from keras import backend as K"
   ]
  },
  {
   "cell_type": "code",
   "execution_count": 2,
   "metadata": {},
   "outputs": [
    {
     "name": "stdout",
     "output_type": "stream",
     "text": [
      "WARNING:tensorflow:From /Users/jsu/opt/anaconda3/lib/python3.7/site-packages/tensorflow_core/python/ops/resource_variable_ops.py:1630: calling BaseResourceVariable.__init__ (from tensorflow.python.ops.resource_variable_ops) with constraint is deprecated and will be removed in a future version.\n",
      "Instructions for updating:\n",
      "If using Keras pass *_constraint arguments to layers.\n",
      "(?, 2)\n",
      "(?, 1)\n",
      "WARNING:tensorflow:From /Users/jsu/opt/anaconda3/lib/python3.7/site-packages/keras/backend/tensorflow_backend.py:422: The name tf.global_variables is deprecated. Please use tf.compat.v1.global_variables instead.\n",
      "\n",
      "[[0.]]\n",
      "[[1.]]\n"
     ]
    },
    {
     "name": "stderr",
     "output_type": "stream",
     "text": [
      "/Users/jsu/opt/anaconda3/lib/python3.7/site-packages/keras/activations.py:235: UserWarning: Do not pass a layer instance (such as Activation) as the activation argument of another layer. Instead, advanced activation layers should be used just like any other layer in a model.\n",
      "  identifier=identifier.__class__.__name__))\n"
     ]
    }
   ],
   "source": [
    "#toy model with based on Integrated Gradients paper (https://arxiv.org/pdf/1703.01365.pdf)\n",
    "with DeepExplain(session=K.get_session()) as de:\n",
    "    model_2 = Sequential()\n",
    "    model_2.add(Dense(2, activation=Activation('relu'), input_dim=2))\n",
    "    model_2.add(Dense(1, activation=Activation('relu')))\n",
    "    \n",
    "    w1 = np.array([[1, 0], [0, 1]])\n",
    "    b1 = np.array([-1, 0])\n",
    "    model_2.layers[0].set_weights([w1, b1]) #x1-1, x2\n",
    "    \n",
    "    w2 = np.array([[1], [-1]])\n",
    "    b2 = np.array([0])\n",
    "    model_2.layers[1].set_weights([w2, b2]) #z1 - 1 - z2 \n",
    "    #print(model.layers[0].get_weights())\n",
    "    \n",
    "    #alpha = .1\n",
    "    #print(-15.75*alpha+9)\n",
    "    #print(K.get_session().run(model.layers[-1].output, feed_dict={model.layers[0].input:np.array([[-2*alpha, \n",
    "                                         #                                                 3*alpha]])}))    \n",
    "    baseline = np.array([[0,0]])\n",
    "    xs = np.array([[3, 1]])\n",
    "    input_tensor = model_2.layers[0].input\n",
    "    target_tensor = model_2.layers[-1].output\n",
    "    #fModel = Model(inputs=input_tensor, outputs = model.layers[-1].output)\n",
    "    #target_tensor = fModel(input_tensor)\n",
    "    print(input_tensor.shape)\n",
    "    print(target_tensor.shape)\n",
    "    print(model_2.predict(baseline))\n",
    "    print(model_2.predict(xs)) #sanity check -\n",
    "    "
   ]
  },
  {
   "cell_type": "code",
   "execution_count": 3,
   "metadata": {},
   "outputs": [
    {
     "name": "stdout",
     "output_type": "stream",
     "text": [
      "WARNING:tensorflow:From /Users/jsu/Integrated-DeepLIFT/deepexplain/tensorflow/methods.py:851: The name tf.get_default_graph is deprecated. Please use tf.compat.v1.get_default_graph instead.\n",
      "\n"
     ]
    },
    {
     "name": "stderr",
     "output_type": "stream",
     "text": [
      "WARNING:tensorflow:From /Users/jsu/Integrated-DeepLIFT/deepexplain/tensorflow/methods.py:851: The name tf.get_default_graph is deprecated. Please use tf.compat.v1.get_default_graph instead.\n",
      "\n"
     ]
    },
    {
     "name": "stdout",
     "output_type": "stream",
     "text": [
      "WARNING:tensorflow:From /Users/jsu/Integrated-DeepLIFT/deepexplain/tensorflow/methods.py:76: The name tf.placeholder is deprecated. Please use tf.compat.v1.placeholder instead.\n",
      "\n"
     ]
    },
    {
     "name": "stderr",
     "output_type": "stream",
     "text": [
      "WARNING:tensorflow:From /Users/jsu/Integrated-DeepLIFT/deepexplain/tensorflow/methods.py:76: The name tf.placeholder is deprecated. Please use tf.compat.v1.placeholder instead.\n",
      "\n"
     ]
    },
    {
     "name": "stdout",
     "output_type": "stream",
     "text": [
      "[array([[-1.,  0.]], dtype=float32), array([[0.]], dtype=float32)]\n",
      "OPS\n",
      "dense_1/activation_1/Relu\n",
      "[[-1.  0.]]\n",
      "WARNING:tensorflow:From /Users/jsu/Integrated-DeepLIFT/deepexplain/tensorflow/methods.py:566: Variable.load (from tensorflow.python.ops.variables) is deprecated and will be removed in a future version.\n",
      "Instructions for updating:\n",
      "Prefer Variable.assign which has equivalent behavior in 2.X.\n"
     ]
    },
    {
     "name": "stderr",
     "output_type": "stream",
     "text": [
      "WARNING:tensorflow:From /Users/jsu/Integrated-DeepLIFT/deepexplain/tensorflow/methods.py:566: Variable.load (from tensorflow.python.ops.variables) is deprecated and will be removed in a future version.\n",
      "Instructions for updating:\n",
      "Prefer Variable.assign which has equivalent behavior in 2.X.\n"
     ]
    },
    {
     "name": "stdout",
     "output_type": "stream",
     "text": [
      "dense_2/activation_2/Relu\n",
      "[[0.]]\n",
      "DeepLIFT: references ready\n",
      "{'dense_1/activation_1/Relu': <tf.Variable 'Variable:0' shape=(1, 2) dtype=float32_ref>, 'dense_2/activation_2/Relu': <tf.Variable 'Variable_1:0' shape=(1, 1) dtype=float32_ref>}\n",
      "WARNING:tensorflow:From /Users/jsu/Integrated-DeepLIFT/deepexplain/tensorflow/methods.py:536: where (from tensorflow.python.ops.array_ops) is deprecated and will be removed in a future version.\n",
      "Instructions for updating:\n",
      "Use tf.where in 2.0, which has the same broadcast rule as np.where\n"
     ]
    },
    {
     "name": "stderr",
     "output_type": "stream",
     "text": [
      "WARNING:tensorflow:From /Users/jsu/Integrated-DeepLIFT/deepexplain/tensorflow/methods.py:536: where (from tensorflow.python.ops.array_ops) is deprecated and will be removed in a future version.\n",
      "Instructions for updating:\n",
      "Use tf.where in 2.0, which has the same broadcast rule as np.where\n"
     ]
    },
    {
     "name": "stdout",
     "output_type": "stream",
     "text": [
      "GRAD\n",
      "output Tensor(\"dense_2/activation_2/Relu:0\", shape=(?, 1), dtype=float32)\n",
      "input Tensor(\"dense_2/BiasAdd:0\", shape=(?, 1), dtype=float32)\n",
      "ref_input <tf.Variable 'Variable_1:0' shape=(1, 1) dtype=float32_ref>\n",
      "ref_output Tensor(\"gradients/dense_2/activation_2/Relu_grad/Relu:0\", shape=(1, 1), dtype=float32)\n",
      "delta_out Tensor(\"gradients/dense_2/activation_2/Relu_grad/sub:0\", shape=(?, 1), dtype=float32)\n",
      "delta_in Tensor(\"gradients/dense_2/activation_2/Relu_grad/sub_1:0\", shape=(?, 1), dtype=float32)\n",
      "result Tensor(\"gradients/dense_2/activation_2/Relu_grad/Select:0\", shape=(?, 1), dtype=float32)\n",
      "GRAD\n",
      "output Tensor(\"dense_1/activation_1/Relu:0\", shape=(?, 2), dtype=float32)\n",
      "input Tensor(\"dense_1/BiasAdd:0\", shape=(?, 2), dtype=float32)\n",
      "ref_input <tf.Variable 'Variable:0' shape=(1, 2) dtype=float32_ref>\n",
      "ref_output Tensor(\"gradients/dense_1/activation_1/Relu_grad/Relu:0\", shape=(1, 2), dtype=float32)\n",
      "delta_out Tensor(\"gradients/dense_1/activation_1/Relu_grad/sub:0\", shape=(?, 2), dtype=float32)\n",
      "delta_in Tensor(\"gradients/dense_1/activation_1/Relu_grad/sub_1:0\", shape=(?, 2), dtype=float32)\n",
      "result Tensor(\"gradients/dense_1/activation_1/Relu_grad/Select:0\", shape=(?, 2), dtype=float32)\n",
      "[array([[-1.,  0.]], dtype=float32), array([[0.]], dtype=float32)]\n",
      "OPS\n",
      "dense_1/activation_1/Relu\n",
      "[[-1.  0.]]\n",
      "dense_2/activation_2/Relu\n",
      "[[0.]]\n",
      "DeepLIFT: references ready\n",
      "{'dense_1/activation_1/Relu': <tf.Variable 'Variable_2:0' shape=(1, 2) dtype=float32_ref>, 'dense_2/activation_2/Relu': <tf.Variable 'Variable_3:0' shape=(1, 1) dtype=float32_ref>}\n",
      "alpha\n",
      "0.2\n",
      "xs_mod\n",
      "[[0.6 0.2]]\n",
      "attr:\n",
      "[array([[0., 0.]], dtype=float32)]\n",
      "[array([[-0.39999998,  0.2       ]], dtype=float32), array([[-0.2]], dtype=float32)]\n",
      "OPS\n",
      "dense_1/activation_1/Relu\n",
      "[[-0.39999998  0.2       ]]\n",
      "ALREADY CONTAINED\n",
      "dense_2/activation_2/Relu\n",
      "[[-0.2]]\n",
      "ALREADY CONTAINED\n",
      "DeepLIFT: references ready\n",
      "{'dense_1/activation_1/Relu': <tf.Variable 'Variable_2:0' shape=(1, 2) dtype=float32_ref>, 'dense_2/activation_2/Relu': <tf.Variable 'Variable_3:0' shape=(1, 1) dtype=float32_ref>}\n",
      "alpha\n",
      "0.4\n",
      "xs_mod\n",
      "[[1.2 0.4]]\n",
      "attr:\n",
      "[array([[0., 0.]], dtype=float32)]\n",
      "[array([[0.20000005, 0.4       ]], dtype=float32), array([[-0.19999996]], dtype=float32)]\n",
      "OPS\n",
      "dense_1/activation_1/Relu\n",
      "[[0.20000005 0.4       ]]\n",
      "ALREADY CONTAINED\n",
      "dense_2/activation_2/Relu\n",
      "[[-0.19999996]]\n",
      "ALREADY CONTAINED\n",
      "DeepLIFT: references ready\n",
      "{'dense_1/activation_1/Relu': <tf.Variable 'Variable_2:0' shape=(1, 2) dtype=float32_ref>, 'dense_2/activation_2/Relu': <tf.Variable 'Variable_3:0' shape=(1, 1) dtype=float32_ref>}\n",
      "alpha\n",
      "0.6000000000000001\n",
      "xs_mod\n",
      "[[1.8 0.6]]\n",
      "attr:\n",
      "[array([[ 0.44444442, -1.        ]], dtype=float32)]\n",
      "[array([[0.79999995, 0.6       ]], dtype=float32), array([[0.19999993]], dtype=float32)]\n",
      "OPS\n",
      "dense_1/activation_1/Relu\n",
      "[[0.79999995 0.6       ]]\n",
      "ALREADY CONTAINED\n",
      "dense_2/activation_2/Relu\n",
      "[[0.19999993]]\n",
      "ALREADY CONTAINED\n",
      "DeepLIFT: references ready\n",
      "{'dense_1/activation_1/Relu': <tf.Variable 'Variable_2:0' shape=(1, 2) dtype=float32_ref>, 'dense_2/activation_2/Relu': <tf.Variable 'Variable_3:0' shape=(1, 1) dtype=float32_ref>}\n",
      "alpha\n",
      "0.8\n",
      "xs_mod\n",
      "[[2.4 0.8]]\n",
      "attr:\n",
      "[array([[ 0.5833334, -1.       ]], dtype=float32)]\n",
      "[array([[1.4000001, 0.8      ]], dtype=float32), array([[0.6000001]], dtype=float32)]\n",
      "OPS\n",
      "dense_1/activation_1/Relu\n",
      "[[1.4000001 0.8      ]]\n",
      "ALREADY CONTAINED\n",
      "dense_2/activation_2/Relu\n",
      "[[0.6000001]]\n",
      "ALREADY CONTAINED\n",
      "DeepLIFT: references ready\n",
      "{'dense_1/activation_1/Relu': <tf.Variable 'Variable_2:0' shape=(1, 2) dtype=float32_ref>, 'dense_2/activation_2/Relu': <tf.Variable 'Variable_3:0' shape=(1, 1) dtype=float32_ref>}\n",
      "alpha\n",
      "1.0\n",
      "xs_mod\n",
      "[[3. 1.]]\n",
      "attr:\n",
      "[array([[ 0.6666667, -1.       ]], dtype=float32)]\n",
      "[array([[2., 1.]], dtype=float32), array([[1.]], dtype=float32)]\n",
      "OPS\n",
      "dense_1/activation_1/Relu\n",
      "[[2. 1.]]\n",
      "ALREADY CONTAINED\n",
      "dense_2/activation_2/Relu\n",
      "[[1.]]\n",
      "ALREADY CONTAINED\n",
      "DeepLIFT: references ready\n",
      "{'dense_1/activation_1/Relu': <tf.Variable 'Variable_2:0' shape=(1, 2) dtype=float32_ref>, 'dense_2/activation_2/Relu': <tf.Variable 'Variable_3:0' shape=(1, 1) dtype=float32_ref>}\n",
      "grads\n",
      "[array([[ 1.6944444, -3.       ]], dtype=float32)]\n",
      "results\n",
      "[[ 1.01666665 -0.6       ]]\n",
      "Done!\n",
      "{'idl_true': [array([ 1.01666665, -0.6       ])]}\n"
     ]
    }
   ],
   "source": [
    "ground_truth = np.array([1.5, -0.5]) #self-calculated\n",
    "steps = [5]#1, 5, 10, 20, 50, 100, 1000]# 200, 300, 400, 500]\n",
    "methods = ['idl_true']\n",
    "attribs_2 = {}\n",
    "diffs_2 = {}\n",
    "xs = np.array([[3, 1]])\n",
    "\n",
    "with DeepExplain(session=K.get_session()) as de:\n",
    "    #attrib_deeplift = de.explain('deeplift', target_tensor, input_tensor, xs)[0] #1 numpy array\n",
    "\n",
    "    for method in methods:\n",
    "        attribs_2[method] = []\n",
    "        diffs_2[method] = []\n",
    "        for step in steps:\n",
    "            attrib = de.explain(method, target_tensor, input_tensor, xs, steps=step)[0] #1 numpy array\n",
    "            attribs_2[method].append(attrib) \n",
    "            diffs_2[method].append(np.sum(np.abs(attrib - ground_truth))) #append 1 number\n",
    "        \n",
    "    #attribs['intgrad'] = de.explain('intgrad', target_tensor, input_tensor, xs, steps=steps)\n",
    "    #attribs['integdeeplift'] = de.explain('integdeeplift', target_tensor, input_tensor, xs, steps=steps)\n",
    "    print(\"Done!\")\n",
    "\n",
    "print(attribs_2)\n",
    "#print(attrib_deeplift)"
   ]
  },
  {
   "cell_type": "code",
   "execution_count": null,
   "metadata": {},
   "outputs": [],
   "source": []
  },
  {
   "cell_type": "code",
   "execution_count": null,
   "metadata": {},
   "outputs": [],
   "source": []
  }
 ],
 "metadata": {
  "anaconda-cloud": {},
  "kernelspec": {
   "display_name": "Python 3",
   "language": "python",
   "name": "python3"
  },
  "language_info": {
   "codemirror_mode": {
    "name": "ipython",
    "version": 3
   },
   "file_extension": ".py",
   "mimetype": "text/x-python",
   "name": "python",
   "nbconvert_exporter": "python",
   "pygments_lexer": "ipython3",
   "version": "3.7.4"
  }
 },
 "nbformat": 4,
 "nbformat_minor": 1
}
