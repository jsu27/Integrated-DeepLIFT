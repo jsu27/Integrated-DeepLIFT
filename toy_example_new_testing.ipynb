{
 "cells": [
  {
   "cell_type": "code",
   "execution_count": 1,
   "metadata": {},
   "outputs": [
    {
     "name": "stderr",
     "output_type": "stream",
     "text": [
      "Using TensorFlow backend.\n"
     ]
    },
    {
     "name": "stdout",
     "output_type": "stream",
     "text": [
      "WARNING:tensorflow:From /Users/jsu/Integrated-DeepLIFT/deepexplain/tensorflow/methods.py:962: The name tf.get_default_session is deprecated. Please use tf.compat.v1.get_default_session instead.\n",
      "\n"
     ]
    }
   ],
   "source": [
    "import tensorflow as tf\n",
    "import numpy as np\n",
    "from keras.models import Sequential\n",
    "from keras.layers import Dense, Activation\n",
    "from keras.models import Model\n",
    "\n",
    "import tempfile, sys, os\n",
    "sys.path.insert(0, os.path.abspath('..'))\n",
    "from deepexplain.tensorflow import DeepExplain\n",
    "from keras import backend as K"
   ]
  },
  {
   "cell_type": "code",
   "execution_count": 2,
   "metadata": {},
   "outputs": [
    {
     "name": "stdout",
     "output_type": "stream",
     "text": [
      "WARNING:tensorflow:From /Users/jsu/opt/anaconda3/lib/python3.7/site-packages/tensorflow_core/python/ops/resource_variable_ops.py:1630: calling BaseResourceVariable.__init__ (from tensorflow.python.ops.resource_variable_ops) with constraint is deprecated and will be removed in a future version.\n",
      "Instructions for updating:\n",
      "If using Keras pass *_constraint arguments to layers.\n"
     ]
    },
    {
     "name": "stderr",
     "output_type": "stream",
     "text": [
      "/Users/jsu/opt/anaconda3/lib/python3.7/site-packages/keras/activations.py:235: UserWarning: Do not pass a layer instance (such as Activation) as the activation argument of another layer. Instead, advanced activation layers should be used just like any other layer in a model.\n",
      "  identifier=identifier.__class__.__name__))\n"
     ]
    },
    {
     "name": "stdout",
     "output_type": "stream",
     "text": [
      "(?, 1)\n",
      "WARNING:tensorflow:From /Users/jsu/opt/anaconda3/lib/python3.7/site-packages/keras/backend/tensorflow_backend.py:422: The name tf.global_variables is deprecated. Please use tf.compat.v1.global_variables instead.\n",
      "\n",
      "[[6.]]\n"
     ]
    }
   ],
   "source": [
    "with DeepExplain(session=K.get_session()) as de:\n",
    "    model = Sequential()\n",
    "    model.add(Dense(2, activation=Activation('relu'), input_dim=2))\n",
    "    model.add(Dense(2, activation=Activation('relu')))\n",
    "    model.add(Dense(3, activation=Activation('relu')))\n",
    "    model.add(Dense(1, activation=Activation('relu')))\n",
    "    \n",
    "    w1 = np.array([[1.,0.], [0.,1.]])\n",
    "    b1 = np.array([0.,0.])\n",
    "    model.layers[0].set_weights([w1, b1])\n",
    "\n",
    "    w2 = np.array([[1., 2.],[-1., -1.]])\n",
    "    b2 = np.array([-1., 0.])\n",
    "    model.layers[1].set_weights([w2, b2])\n",
    "\n",
    "    w3 = np.array([[-2., 2., 1.], [3.,1., -2.]])\n",
    "    b3 = np.array([-1.,0., -2.])\n",
    "    model.layers[2].set_weights([w3, b3])\n",
    "\n",
    "    w4 = np.array([[1.],[-1.], [3.]])\n",
    "    b4 = np.array([1.])\n",
    "    model.layers[3].set_weights([w4, b4])\n",
    "    \n",
    "                                         #                                                 3*alpha]])}))    \n",
    "    baseline = np.array([[0,0]])\n",
    "    xs = np.array([[3, 1]])\n",
    "    input_tensor = model.layers[0].input\n",
    "    target_tensor = model.layers[-1].output\n",
    "    #fModel = Model(inputs=input_tensor, outputs = model.layers[-1].output)\n",
    "    #target_tensor = fModel(input_tensor)\n",
    "    print(target_tensor.shape)\n",
    "    print(model.predict(xs)) #sanity check -\n"
   ]
  },
  {
   "cell_type": "code",
   "execution_count": 5,
   "metadata": {},
   "outputs": [
    {
     "data": {
      "text/plain": [
       "array([[5.],\n",
       "       [5.],\n",
       "       [0.]], dtype=float32)"
      ]
     },
     "execution_count": 5,
     "metadata": {},
     "output_type": "execute_result"
    }
   ],
   "source": [
    "model.predict(xs) - model.predict(baseline)"
   ]
  },
  {
   "cell_type": "code",
   "execution_count": 3,
   "metadata": {},
   "outputs": [
    {
     "name": "stdout",
     "output_type": "stream",
     "text": [
      "WARNING:tensorflow:From /Users/jsu/Integrated-DeepLIFT/deepexplain/tensorflow/methods.py:1044: The name tf.get_default_graph is deprecated. Please use tf.compat.v1.get_default_graph instead.\n",
      "\n"
     ]
    },
    {
     "name": "stderr",
     "output_type": "stream",
     "text": [
      "WARNING:tensorflow:From /Users/jsu/Integrated-DeepLIFT/deepexplain/tensorflow/methods.py:1044: The name tf.get_default_graph is deprecated. Please use tf.compat.v1.get_default_graph instead.\n",
      "\n"
     ]
    },
    {
     "name": "stdout",
     "output_type": "stream",
     "text": [
      "WARNING:tensorflow:From /Users/jsu/Integrated-DeepLIFT/deepexplain/tensorflow/methods.py:76: The name tf.placeholder is deprecated. Please use tf.compat.v1.placeholder instead.\n",
      "\n"
     ]
    },
    {
     "name": "stderr",
     "output_type": "stream",
     "text": [
      "WARNING:tensorflow:From /Users/jsu/Integrated-DeepLIFT/deepexplain/tensorflow/methods.py:76: The name tf.placeholder is deprecated. Please use tf.compat.v1.placeholder instead.\n",
      "\n"
     ]
    },
    {
     "name": "stdout",
     "output_type": "stream",
     "text": [
      "WARNING:tensorflow:From /Users/jsu/Integrated-DeepLIFT/deepexplain/tensorflow/methods.py:403: where (from tensorflow.python.ops.array_ops) is deprecated and will be removed in a future version.\n",
      "Instructions for updating:\n",
      "Use tf.where in 2.0, which has the same broadcast rule as np.where\n"
     ]
    },
    {
     "name": "stderr",
     "output_type": "stream",
     "text": [
      "WARNING:tensorflow:From /Users/jsu/Integrated-DeepLIFT/deepexplain/tensorflow/methods.py:403: where (from tensorflow.python.ops.array_ops) is deprecated and will be removed in a future version.\n",
      "Instructions for updating:\n",
      "Use tf.where in 2.0, which has the same broadcast rule as np.where\n"
     ]
    },
    {
     "name": "stdout",
     "output_type": "stream",
     "text": [
      "(3, 2)\n",
      "(1, 3, 2)\n",
      "(3, 2)\n",
      "WARNING:tensorflow:From /Users/jsu/opt/anaconda3/lib/python3.7/site-packages/tensorflow_core/python/util/tf_should_use.py:198: initialize_variables (from tensorflow.python.ops.variables) is deprecated and will be removed after 2017-03-02.\n",
      "Instructions for updating:\n",
      "Use `tf.variables_initializer` instead.\n"
     ]
    },
    {
     "name": "stderr",
     "output_type": "stream",
     "text": [
      "WARNING:tensorflow:From /Users/jsu/opt/anaconda3/lib/python3.7/site-packages/tensorflow_core/python/util/tf_should_use.py:198: initialize_variables (from tensorflow.python.ops.variables) is deprecated and will be removed after 2017-03-02.\n",
      "Instructions for updating:\n",
      "Use `tf.variables_initializer` instead.\n"
     ]
    },
    {
     "name": "stdout",
     "output_type": "stream",
     "text": [
      "WARNING:tensorflow:From /Users/jsu/Integrated-DeepLIFT/deepexplain/tensorflow/methods.py:664: Variable.load (from tensorflow.python.ops.variables) is deprecated and will be removed in a future version.\n",
      "Instructions for updating:\n",
      "Prefer Variable.assign which has equivalent behavior in 2.X.\n"
     ]
    },
    {
     "name": "stderr",
     "output_type": "stream",
     "text": [
      "WARNING:tensorflow:From /Users/jsu/Integrated-DeepLIFT/deepexplain/tensorflow/methods.py:664: Variable.load (from tensorflow.python.ops.variables) is deprecated and will be removed in a future version.\n",
      "Instructions for updating:\n",
      "Prefer Variable.assign which has equivalent behavior in 2.X.\n"
     ]
    },
    {
     "name": "stdout",
     "output_type": "stream",
     "text": [
      "(3, 2)\n",
      "(3, 2)\n",
      "(3, 2)\n",
      "(3, 2)\n",
      "(3, 2)\n",
      "(3, 2)\n",
      "Done!\n",
      "{'idl_true': [array([[ 6.66666651, -1.66666663],\n",
      "       [ 4.84615409,  0.15384603],\n",
      "       [ 0.        ,  0.        ]]), array([[ 6.66666718, -1.66666679],\n",
      "       [ 4.8       ,  0.2       ],\n",
      "       [ 0.        ,  0.        ]]), array([[ 6.66666718, -1.66666679],\n",
      "       [ 4.8       ,  0.2       ],\n",
      "       [ 0.        ,  0.        ]])], 'idl': [[array([ 6.66666651, -1.66666663]), array([4.84615409, 0.15384603]), array([0., 0.])], [array([ 6.66666718, -1.66666679]), array([4.8, 0.2]), array([0., 0.])], [array([ 6.66666718, -1.66666679]), array([4.8, 0.2]), array([0., 0.])]]}\n",
      "[[ 6.6666665  -1.6666666 ]\n",
      " [ 4.846154    0.15384603]\n",
      " [ 0.          0.        ]]\n"
     ]
    }
   ],
   "source": [
    "ground_truth = np.array([4.8, -0.2]) # from Exactline \n",
    "steps = [1, 5, 20]#, 10, 20, 50, 100]#, 200, 300, 400, 500]\n",
    "methods = ['idl_true', 'idl']\n",
    "attribs_2 = {}\n",
    "diffs_2 = {}\n",
    "xs = np.array([[2,1],[3, 1], [2, 10]])\n",
    "\n",
    "with DeepExplain(session=K.get_session()) as de:\n",
    "    attrib_deeplift = de.explain('deeplift', target_tensor, input_tensor, xs) #1 numpy array\n",
    "    # print(attrib_deeplift.shape)\n",
    "    for method in methods:\n",
    "        attribs_2[method] = []\n",
    "        diffs_2[method] = []\n",
    "        for step in steps:\n",
    "            attrib = de.explain(method, target_tensor, input_tensor, xs, steps=step) #1 numpy array\n",
    "            attribs_2[method].append(attrib) \n",
    "            #diffs_2[method].append(np.sum(np.abs(attrib - ground_truth))) #append 1 number\n",
    "        \n",
    "    #attribs['intgrad'] = de.explain('intgrad', target_tensor, input_tensor, xs, steps=steps)\n",
    "    #attribs['integdeeplift'] = de.explain('integdeeplift', target_tensor, input_tensor, xs, steps=steps)\n",
    "    print(\"Done!\")\n",
    "    \n",
    "print(attribs_2)\n",
    "print(attrib_deeplift)"
   ]
  },
  {
   "cell_type": "code",
   "execution_count": 2,
   "metadata": {},
   "outputs": [
    {
     "name": "stdout",
     "output_type": "stream",
     "text": [
      "WARNING:tensorflow:From /Users/jsu/opt/anaconda3/lib/python3.7/site-packages/tensorflow_core/python/ops/resource_variable_ops.py:1630: calling BaseResourceVariable.__init__ (from tensorflow.python.ops.resource_variable_ops) with constraint is deprecated and will be removed in a future version.\n",
      "Instructions for updating:\n",
      "If using Keras pass *_constraint arguments to layers.\n",
      "(?, 2)\n",
      "(?, 1)\n",
      "WARNING:tensorflow:From /Users/jsu/opt/anaconda3/lib/python3.7/site-packages/keras/backend/tensorflow_backend.py:422: The name tf.global_variables is deprecated. Please use tf.compat.v1.global_variables instead.\n",
      "\n",
      "[[0.]]\n",
      "[[1.]]\n"
     ]
    },
    {
     "name": "stderr",
     "output_type": "stream",
     "text": [
      "/Users/jsu/opt/anaconda3/lib/python3.7/site-packages/keras/activations.py:235: UserWarning: Do not pass a layer instance (such as Activation) as the activation argument of another layer. Instead, advanced activation layers should be used just like any other layer in a model.\n",
      "  identifier=identifier.__class__.__name__))\n"
     ]
    }
   ],
   "source": [
    "#toy model with based on Integrated Gradients paper (https://arxiv.org/pdf/1703.01365.pdf)\n",
    "with DeepExplain(session=K.get_session()) as de:\n",
    "    model_2 = Sequential()\n",
    "    model_2.add(Dense(2, activation=Activation('relu'), input_dim=2))\n",
    "    model_2.add(Dense(1, activation=Activation('relu')))\n",
    "    \n",
    "    w1 = np.array([[1, 0], [0, 1]])\n",
    "    b1 = np.array([-1, 0])\n",
    "    model_2.layers[0].set_weights([w1, b1]) #x1-1, x2\n",
    "    \n",
    "    w2 = np.array([[1], [-1]])\n",
    "    b2 = np.array([0])\n",
    "    model_2.layers[1].set_weights([w2, b2]) #z1 - 1 - z2 \n",
    "    #print(model.layers[0].get_weights())\n",
    "    \n",
    "    #alpha = .1\n",
    "    #print(-15.75*alpha+9)\n",
    "    #print(K.get_session().run(model.layers[-1].output, feed_dict={model.layers[0].input:np.array([[-2*alpha, \n",
    "                                         #                                                 3*alpha]])}))    \n",
    "    baseline = np.array([[0,0]])\n",
    "    xs = np.array([[3, 1]])\n",
    "    input_tensor = model_2.layers[0].input\n",
    "    target_tensor = model_2.layers[-1].output\n",
    "    #fModel = Model(inputs=input_tensor, outputs = model.layers[-1].output)\n",
    "    #target_tensor = fModel(input_tensor)\n",
    "    print(input_tensor.shape)\n",
    "    print(target_tensor.shape)\n",
    "    print(model_2.predict(baseline))\n",
    "    print(model_2.predict(xs)) #sanity check -\n",
    "    "
   ]
  },
  {
   "cell_type": "code",
   "execution_count": 3,
   "metadata": {},
   "outputs": [
    {
     "name": "stdout",
     "output_type": "stream",
     "text": [
      "WARNING:tensorflow:From /Users/jsu/Integrated-DeepLIFT/deepexplain/tensorflow/methods.py:992: The name tf.get_default_graph is deprecated. Please use tf.compat.v1.get_default_graph instead.\n",
      "\n"
     ]
    },
    {
     "name": "stderr",
     "output_type": "stream",
     "text": [
      "WARNING:tensorflow:From /Users/jsu/Integrated-DeepLIFT/deepexplain/tensorflow/methods.py:992: The name tf.get_default_graph is deprecated. Please use tf.compat.v1.get_default_graph instead.\n",
      "\n"
     ]
    },
    {
     "name": "stdout",
     "output_type": "stream",
     "text": [
      "WARNING:tensorflow:From /Users/jsu/Integrated-DeepLIFT/deepexplain/tensorflow/methods.py:76: The name tf.placeholder is deprecated. Please use tf.compat.v1.placeholder instead.\n",
      "\n"
     ]
    },
    {
     "name": "stderr",
     "output_type": "stream",
     "text": [
      "WARNING:tensorflow:From /Users/jsu/Integrated-DeepLIFT/deepexplain/tensorflow/methods.py:76: The name tf.placeholder is deprecated. Please use tf.compat.v1.placeholder instead.\n",
      "\n"
     ]
    },
    {
     "name": "stdout",
     "output_type": "stream",
     "text": [
      "IN GRAD OVERRIDE\n",
      "WARNING:tensorflow:From /Users/jsu/Integrated-DeepLIFT/deepexplain/tensorflow/methods.py:384: where (from tensorflow.python.ops.array_ops) is deprecated and will be removed in a future version.\n",
      "Instructions for updating:\n",
      "Use tf.where in 2.0, which has the same broadcast rule as np.where\n"
     ]
    },
    {
     "name": "stderr",
     "output_type": "stream",
     "text": [
      "WARNING:tensorflow:From /Users/jsu/Integrated-DeepLIFT/deepexplain/tensorflow/methods.py:384: where (from tensorflow.python.ops.array_ops) is deprecated and will be removed in a future version.\n",
      "Instructions for updating:\n",
      "Use tf.where in 2.0, which has the same broadcast rule as np.where\n"
     ]
    },
    {
     "name": "stdout",
     "output_type": "stream",
     "text": [
      "IN GRAD OVERRIDE\n",
      "still in init\n",
      "IN GRAD OVERRIDE\n",
      "IN GRAD OVERRIDE\n",
      "Done!\n",
      "[ 2. -1.]\n"
     ]
    }
   ],
   "source": [
    "ground_truth = np.array([1.5, -0.5]) #self-calculated\n",
    "steps = [1, 5, 10, 20, 50, 100]#, 1000]# 200, 300, 400, 500]\n",
    "methods = ['idl_true', 'intgrad']\n",
    "attribs_2 = {}\n",
    "diffs_2 = {}\n",
    "xs = np.array([[3, 1]])\n",
    "\n",
    "with DeepExplain(session=K.get_session()) as de:\n",
    "    attrib_deeplift = de.explain('deeplift', target_tensor, input_tensor, xs)[0] #1 numpy array\n",
    "\n",
    "#     for method in methods:\n",
    "#         attribs_2[method] = []\n",
    "#         diffs_2[method] = []\n",
    "#         for step in steps:\n",
    "#             attrib = de.explain(method, target_tensor, input_tensor, xs, steps=step)[0] #1 numpy array\n",
    "#             attribs_2[method].append(attrib) \n",
    "#             diffs_2[method].append(np.sum(np.abs(attrib - ground_truth))) #append 1 number\n",
    "        \n",
    "    #attribs['intgrad'] = de.explain('intgrad', target_tensor, input_tensor, xs, steps=steps)\n",
    "    #attribs['integdeeplift'] = de.explain('integdeeplift', target_tensor, input_tensor, xs, steps=steps)\n",
    "    print(\"Done!\")\n",
    "\n",
    "#print(attribs_2)\n",
    "print(attrib_deeplift)"
   ]
  },
  {
   "cell_type": "code",
   "execution_count": null,
   "metadata": {},
   "outputs": [],
   "source": [
    "import keras\n",
    "from keras.models import load_model\n",
    "from keras.models import Model\n",
    "print(\"keras version:\", keras.__version__)\n",
    "import tensorflow as tf\n",
    "print(\"tensorflow version:\", tf.__version__)\n",
    "import wget\n",
    "import os\n",
    "import sys\n",
    "from keras.datasets import cifar10\n",
    "import numpy as np\n",
    "(x_train, y_train), (x_test, y_test) = cifar10.load_data()\n",
    "\n",
    "mean = np.mean(x_train,axis=(0,1,2,3))\n",
    "std = np.std(x_train, axis=(0, 1, 2, 3))\n",
    "x_train = (x_train-mean)/(std+1e-7)\n",
    "x_test = (x_test-mean)/(std+1e-7)\n",
    "x_valid = x_train[:10000]\n",
    "y_valid = y_train[:10000]\n",
    "\n",
    "model_files = [\n",
    "    \"model_cifar10_balanced_seed-0_bestbefore-100_currentepoch-100_valacc-91_vgg.h5\",\n",
    "    \"model_cifar10_balanced_seed-10_bestbefore-100_currentepoch-100_valacc-91_vgg.h5\",\n",
    "    \"model_cifar10_balanced_seed-20_bestbefore-100_currentepoch-100_valacc-91_vgg.h5\",\n",
    "    \"model_cifar10_balanced_seed-30_bestbefore-100_currentepoch-100_valacc-91_vgg.h5\",\n",
    "    \"model_cifar10_balanced_seed-40_bestbefore-100_currentepoch-100_valacc-91_vgg.h5\",\n",
    "    \"model_cifar10_balanced_seed-50_bestbefore-100_currentepoch-100_valacc-91_vgg.h5\",\n",
    "    \"model_cifar10_balanced_seed-60_bestbefore-100_currentepoch-100_valacc-91_vgg.h5\",\n",
    "    \"model_cifar10_balanced_seed-70_bestbefore-100_currentepoch-100_valacc-91_vgg.h5\",\n",
    "    \"model_cifar10_balanced_seed-80_bestbefore-100_currentepoch-100_valacc-90_vgg.h5\",\n",
    "    \"model_cifar10_balanced_seed-90_bestbefore-100_currentepoch-100_valacc-91_vgg.h5\"\n",
    "]\n",
    "model_files = model_files[0] # test with 1 model\n",
    "\n",
    "for model_file in model_files:\n",
    "  print(\"On model\", model_file)\n",
    "#   if (os.path.isfile(model_file)==False):\n",
    "#     print(\"Downloading\", model_file)\n",
    "#     wget.download(\"https://zenodo.org/record/2648107/files/\"\n",
    "#                   +model_file+\"?download=1\", out=model_file)\n",
    "  model = load_model(model_file)\n",
    "\n",
    "  pre_softmax_model = Model(input=model.input,\n",
    "                            output=model.layers[-2].output)\n",
    "  print(\"Making predictions on validation set\")\n",
    "  valid_preacts = pre_softmax_model.predict(x_valid)\n",
    "  print(\"Making predictions on test set\")\n",
    "  test_preacts = pre_softmax_model.predict(x_test)\n",
    "\n",
    "  print(\"Test accuracy\",np.mean(np.argmax(test_preacts,axis=1)\n",
    "                                == np.squeeze(y_test)))\n",
    "  print(\"Valid accuracy\",np.mean(np.argmax(valid_preacts,axis=1)\n",
    "                                 == np.squeeze(y_valid)))\n"
   ]
  },
  {
   "cell_type": "code",
   "execution_count": null,
   "metadata": {},
   "outputs": [],
   "source": [
    "with DeepExplain(session=K.get_session()) as de:  # <-- init DeepExplain context\n",
    "    # Need to reconstruct the graph in DeepExplain context, using the same weights.\n",
    "    # With Keras this is very easy:\n",
    "    # 1. Get the input tensor to the original model\n",
    "    input_tensor = model.input # model.layers[0].input\n",
    "    print(input_tensor)\n",
    "    print(input_tensor.shape)\n",
    "    \n",
    "    # 2. We now target the output of the last dense layer (pre-softmax)\n",
    "    # To do so, create a new model sharing the same layers untill the last dense (index -2)\n",
    "    fModel = Model(inputs=input_tensor, outputs = model.layers[-2].output)\n",
    "    target_tensor = fModel(input_tensor)\n",
    "    \n",
    "    xs = x_test[0:10]\n",
    "    ys = y_test[0:10]\n",
    "    \n",
    "    #attributions_gradin = de.explain('grad*input', target_tensor, input_tensor, xs, ys=ys)\n",
    "    #attributions_sal   = de.explain('saliency', target_tensor, input_tensor, xs, ys=ys)\n",
    "    #attributions_ig    = de.explain('intgrad', target_tensor, input_tensor, xs, ys=ys)\n",
    "    #attributions_dl    = de.explain('deeplift', target_tensor, input_tensor, xs, ys=ys)\n",
    "    attributions_idl   = de.explain('integdeeplift', target_tensor, input_tensor, xs, ys=ys)"
   ]
  }
 ],
 "metadata": {
  "anaconda-cloud": {},
  "kernelspec": {
   "display_name": "Python 3",
   "language": "python",
   "name": "python3"
  },
  "language_info": {
   "codemirror_mode": {
    "name": "ipython",
    "version": 3
   },
   "file_extension": ".py",
   "mimetype": "text/x-python",
   "name": "python",
   "nbconvert_exporter": "python",
   "pygments_lexer": "ipython3",
   "version": "3.7.4"
  }
 },
 "nbformat": 4,
 "nbformat_minor": 1
}
